{
 "cells": [
  {
   "cell_type": "markdown",
   "metadata": {},
   "source": [
    "## <center>Web Scraping Project 6.0 </center>"
   ]
  },
  {
   "cell_type": "markdown",
   "metadata": {},
   "source": [
    "Displaying list of respected former Presidents of India (i.e. Name, Term of office) from <a>https://presidentofindia.nic.in/former-presidents.htm</a>"
   ]
  },
  {
   "cell_type": "code",
   "execution_count": 1,
   "metadata": {},
   "outputs": [],
   "source": [
    "import pandas as pd\n",
    "import requests\n",
    "from bs4 import BeautifulSoup"
   ]
  },
  {
   "cell_type": "code",
   "execution_count": 2,
   "metadata": {},
   "outputs": [],
   "source": [
    "url4 = \"https://presidentofindia.nic.in/former-presidents.htm\"\n",
    "html_president_data = requests.get(url4).text"
   ]
  },
  {
   "cell_type": "code",
   "execution_count": 3,
   "metadata": {},
   "outputs": [],
   "source": [
    "president_soup = BeautifulSoup(html_president_data, \"html.parser\")"
   ]
  },
  {
   "cell_type": "code",
   "execution_count": 4,
   "metadata": {},
   "outputs": [
    {
     "data": {
      "text/plain": [
       "['Shri Ram Nath Kovind',\n",
       " 'Shri Pranab Mukherjee',\n",
       " 'Smt Pratibha Devisingh Patil',\n",
       " 'DR. A.P.J. Abdul Kalam',\n",
       " 'Shri K. R. Narayanan',\n",
       " 'Dr Shankar Dayal Sharma',\n",
       " 'Shri R Venkataraman',\n",
       " 'Giani Zail Singh',\n",
       " 'Shri Neelam Sanjiva Reddy',\n",
       " 'Dr. Fakhruddin Ali Ahmed',\n",
       " 'Shri Varahagiri Venkata Giri',\n",
       " 'Dr. Zakir Husain',\n",
       " 'Dr. Sarvepalli Radhakrishnan',\n",
       " 'Dr. Rajendra Prasad']"
      ]
     },
     "execution_count": 4,
     "metadata": {},
     "output_type": "execute_result"
    }
   ],
   "source": [
    "p_list = president_soup.find(\"ul\", class_= \"listing cf\")\n",
    "president_name = [tags[\"alt\"] for tags in p_list.select(\"img[alt]\")]\n",
    "president_name"
   ]
  },
  {
   "cell_type": "code",
   "execution_count": 5,
   "metadata": {},
   "outputs": [
    {
     "data": {
      "text/plain": [
       "['25 July, 2017 to 25 July, 2022 ',\n",
       " '25 July, 2012 to 25 July, 2017 ',\n",
       " '25 July, 2007 to 25 July, 2012 ',\n",
       " '25 July, 2002 to 25 July, 2007 ',\n",
       " '25 July, 1997 to 25 July, 2002 ',\n",
       " '25 July, 1992 to 25 July, 1997 ',\n",
       " '25 July, 1987 to 25 July, 1992 ',\n",
       " '25 July, 1982 to 25 July, 1987 ',\n",
       " '25 July, 1977 to 25 July, 1982 ',\n",
       " '24 August, 1974 to 11 February, 1977',\n",
       " '3 May, 1969 to 20 July, 1969 and 24 August, 1969 to 24 August, 1974',\n",
       " '13 May, 1967 to 3 May, 1969',\n",
       " '13 May, 1962 to 13 May, 1967',\n",
       " '26 January, 1950 to 13 May, 1962']"
      ]
     },
     "execution_count": 5,
     "metadata": {},
     "output_type": "execute_result"
    }
   ],
   "source": [
    "p_ttags = {\"class\" : \"terms\"}\n",
    "president_terms = [tags.text.removeprefix(\"Term of Office: \") for tags in president_soup.select(\".presidentListing > h3+p\")]\n",
    "president_terms"
   ]
  },
  {
   "cell_type": "code",
   "execution_count": 6,
   "metadata": {},
   "outputs": [
    {
     "data": {
      "text/html": [
       "<div>\n",
       "<style scoped>\n",
       "    .dataframe tbody tr th:only-of-type {\n",
       "        vertical-align: middle;\n",
       "    }\n",
       "\n",
       "    .dataframe tbody tr th {\n",
       "        vertical-align: top;\n",
       "    }\n",
       "\n",
       "    .dataframe thead th {\n",
       "        text-align: right;\n",
       "    }\n",
       "</style>\n",
       "<table border=\"1\" class=\"dataframe\">\n",
       "  <thead>\n",
       "    <tr style=\"text-align: right;\">\n",
       "      <th></th>\n",
       "      <th>Name</th>\n",
       "      <th>Term of Office</th>\n",
       "    </tr>\n",
       "  </thead>\n",
       "  <tbody>\n",
       "    <tr>\n",
       "      <th>1</th>\n",
       "      <td>Shri Ram Nath Kovind</td>\n",
       "      <td>25 July, 2017 to 25 July, 2022</td>\n",
       "    </tr>\n",
       "    <tr>\n",
       "      <th>2</th>\n",
       "      <td>Shri Pranab Mukherjee</td>\n",
       "      <td>25 July, 2012 to 25 July, 2017</td>\n",
       "    </tr>\n",
       "    <tr>\n",
       "      <th>3</th>\n",
       "      <td>Smt Pratibha Devisingh Patil</td>\n",
       "      <td>25 July, 2007 to 25 July, 2012</td>\n",
       "    </tr>\n",
       "    <tr>\n",
       "      <th>4</th>\n",
       "      <td>DR. A.P.J. Abdul Kalam</td>\n",
       "      <td>25 July, 2002 to 25 July, 2007</td>\n",
       "    </tr>\n",
       "    <tr>\n",
       "      <th>5</th>\n",
       "      <td>Shri K. R. Narayanan</td>\n",
       "      <td>25 July, 1997 to 25 July, 2002</td>\n",
       "    </tr>\n",
       "    <tr>\n",
       "      <th>6</th>\n",
       "      <td>Dr Shankar Dayal Sharma</td>\n",
       "      <td>25 July, 1992 to 25 July, 1997</td>\n",
       "    </tr>\n",
       "    <tr>\n",
       "      <th>7</th>\n",
       "      <td>Shri R Venkataraman</td>\n",
       "      <td>25 July, 1987 to 25 July, 1992</td>\n",
       "    </tr>\n",
       "    <tr>\n",
       "      <th>8</th>\n",
       "      <td>Giani Zail Singh</td>\n",
       "      <td>25 July, 1982 to 25 July, 1987</td>\n",
       "    </tr>\n",
       "    <tr>\n",
       "      <th>9</th>\n",
       "      <td>Shri Neelam Sanjiva Reddy</td>\n",
       "      <td>25 July, 1977 to 25 July, 1982</td>\n",
       "    </tr>\n",
       "    <tr>\n",
       "      <th>10</th>\n",
       "      <td>Dr. Fakhruddin Ali Ahmed</td>\n",
       "      <td>24 August, 1974 to 11 February, 1977</td>\n",
       "    </tr>\n",
       "    <tr>\n",
       "      <th>11</th>\n",
       "      <td>Shri Varahagiri Venkata Giri</td>\n",
       "      <td>3 May, 1969 to 20 July, 1969 and 24 August, 19...</td>\n",
       "    </tr>\n",
       "    <tr>\n",
       "      <th>12</th>\n",
       "      <td>Dr. Zakir Husain</td>\n",
       "      <td>13 May, 1967 to 3 May, 1969</td>\n",
       "    </tr>\n",
       "    <tr>\n",
       "      <th>13</th>\n",
       "      <td>Dr. Sarvepalli Radhakrishnan</td>\n",
       "      <td>13 May, 1962 to 13 May, 1967</td>\n",
       "    </tr>\n",
       "    <tr>\n",
       "      <th>14</th>\n",
       "      <td>Dr. Rajendra Prasad</td>\n",
       "      <td>26 January, 1950 to 13 May, 1962</td>\n",
       "    </tr>\n",
       "  </tbody>\n",
       "</table>\n",
       "</div>"
      ],
      "text/plain": [
       "                            Name  \\\n",
       "1           Shri Ram Nath Kovind   \n",
       "2          Shri Pranab Mukherjee   \n",
       "3   Smt Pratibha Devisingh Patil   \n",
       "4         DR. A.P.J. Abdul Kalam   \n",
       "5           Shri K. R. Narayanan   \n",
       "6        Dr Shankar Dayal Sharma   \n",
       "7            Shri R Venkataraman   \n",
       "8               Giani Zail Singh   \n",
       "9      Shri Neelam Sanjiva Reddy   \n",
       "10      Dr. Fakhruddin Ali Ahmed   \n",
       "11  Shri Varahagiri Venkata Giri   \n",
       "12              Dr. Zakir Husain   \n",
       "13  Dr. Sarvepalli Radhakrishnan   \n",
       "14           Dr. Rajendra Prasad   \n",
       "\n",
       "                                       Term of Office  \n",
       "1                     25 July, 2017 to 25 July, 2022   \n",
       "2                     25 July, 2012 to 25 July, 2017   \n",
       "3                     25 July, 2007 to 25 July, 2012   \n",
       "4                     25 July, 2002 to 25 July, 2007   \n",
       "5                     25 July, 1997 to 25 July, 2002   \n",
       "6                     25 July, 1992 to 25 July, 1997   \n",
       "7                     25 July, 1987 to 25 July, 1992   \n",
       "8                     25 July, 1982 to 25 July, 1987   \n",
       "9                     25 July, 1977 to 25 July, 1982   \n",
       "10               24 August, 1974 to 11 February, 1977  \n",
       "11  3 May, 1969 to 20 July, 1969 and 24 August, 19...  \n",
       "12                        13 May, 1967 to 3 May, 1969  \n",
       "13                       13 May, 1962 to 13 May, 1967  \n",
       "14                   26 January, 1950 to 13 May, 1962  "
      ]
     },
     "execution_count": 6,
     "metadata": {},
     "output_type": "execute_result"
    }
   ],
   "source": [
    "president = pd.DataFrame(list(zip(president_name, president_terms)), columns= [\"Name\", \"Term of Office\"], index=range(1,15))\n",
    "president"
   ]
  }
 ],
 "metadata": {
  "kernelspec": {
   "display_name": "Python 3.10.0 64-bit",
   "language": "python",
   "name": "python3"
  },
  "language_info": {
   "codemirror_mode": {
    "name": "ipython",
    "version": 3
   },
   "file_extension": ".py",
   "mimetype": "text/x-python",
   "name": "python",
   "nbconvert_exporter": "python",
   "pygments_lexer": "ipython3",
   "version": "3.10.0"
  },
  "orig_nbformat": 4,
  "vscode": {
   "interpreter": {
    "hash": "213524bb45a1aeaf737b1d8c77d7b8db5d425938d9dffc5f4bc6fe6dd3324700"
   }
  }
 },
 "nbformat": 4,
 "nbformat_minor": 2
}
